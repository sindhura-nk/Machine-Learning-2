{
 "cells": [
  {
   "cell_type": "markdown",
   "metadata": {},
   "source": [
    "## Import libraries and Read the data set "
   ]
  },
  {
   "cell_type": "code",
   "execution_count": 1,
   "metadata": {},
   "outputs": [],
   "source": [
    "from warnings import filterwarnings\n",
    "filterwarnings('ignore')"
   ]
  },
  {
   "cell_type": "code",
   "execution_count": 6,
   "metadata": {},
   "outputs": [],
   "source": [
    "import pandas as pd\n",
    "from sklearn.model_selection import train_test_split"
   ]
  },
  {
   "cell_type": "code",
   "execution_count": 7,
   "metadata": {},
   "outputs": [],
   "source": [
    "# read data from train and test csv files\n",
    "X_full = pd.read_csv('train.csv',na_values=['','NA'],keep_default_na=False,index_col='Id')\n",
    "X_test_full = pd.read_csv('test.csv',na_values=['','NA'],keep_default_na=False,index_col='Id')\n",
    "\n",
    "# remove rows with missing target, separate target from predictors\n",
    "X_full.dropna(axis=0,subset=['SalePrice'],inplace=True)\n",
    "y= X_full.SalePrice\n",
    "X_full.drop(['SalePrice'],axis=1,inplace=True)\n",
    "\n",
    "# to keep things simple, we will use numerical predictors\n",
    "X = X_full.select_dtypes(exclude=['object'])\n",
    "X_test = X_test_full.select_dtypes(exclude=['object'])\n",
    "\n",
    "# break off validation set from training data\n",
    "xtrain,xtest,ytrain,ytest = train_test_split(X,y,train_size=0.8,test_size=0.2,random_state=0)"
   ]
  },
  {
   "cell_type": "markdown",
   "metadata": {},
   "source": [
    "## Handling Missing Values  : Preliminary Investigation"
   ]
  },
  {
   "cell_type": "code",
   "execution_count": 9,
   "metadata": {},
   "outputs": [
    {
     "name": "stdout",
     "output_type": "stream",
     "text": [
      "(1168, 36)\n",
      "LotFrontage    212\n",
      "MasVnrArea       6\n",
      "GarageYrBlt     58\n",
      "dtype: int64\n"
     ]
    }
   ],
   "source": [
    "print(xtrain.shape) \n",
    "\n",
    "# missing value count by column\n",
    "s = xtrain.isnull().sum()\n",
    "print(s[s>0])"
   ]
  },
  {
   "cell_type": "markdown",
   "metadata": {},
   "source": [
    "### To compare different approaches to dealing with missing values, you'll use the score_dataset() function. This function reports the mean absolute error (MAE) from a random forest model.\n",
    "\n",
    "``` python\n",
    "from sklearn.ensemble import RandomForestRegressor\n",
    "from sklearn.metrics import mean_absolute_error\n",
    "\n",
    "# Function for comparing different approaches\n",
    " \n",
    "def score_dataset(X_train, X_valid, y_train, y_valid):\n",
    "    model = RandomForestRegressor(n_estimators=100, random_state=0)\n",
    "    model.fit(X_train, y_train)\n",
    "    preds = model.predict(X_valid)\n",
    "    return mean_absolute_error(y_valid, preds)"
   ]
  },
  {
   "cell_type": "code",
   "execution_count": 10,
   "metadata": {},
   "outputs": [],
   "source": [
    "from sklearn.ensemble import RandomForestRegressor\n",
    "from sklearn.metrics import mean_absolute_error\n",
    "\n",
    "# Function for comparing different approaches\n",
    " \n",
    "def score_dataset(X_train, X_valid, y_train, y_valid):\n",
    "    model = RandomForestRegressor(n_estimators=100, random_state=0)\n",
    "    model.fit(X_train, y_train)\n",
    "    preds = model.predict(X_valid)\n",
    "    return mean_absolute_error(y_valid, preds)"
   ]
  },
  {
   "cell_type": "markdown",
   "metadata": {},
   "source": [
    "## Drop columns with missing values"
   ]
  },
  {
   "cell_type": "code",
   "execution_count": 14,
   "metadata": {},
   "outputs": [],
   "source": [
    "# get names of columns with missing values\n",
    "col_miss = [col for col in xtrain.columns\n",
    "            if xtrain[col].isnull().any()]\n",
    "\n",
    "# drop columns in training and validation data\n",
    "reduced_xtrain = xtrain.drop(col_miss,axis=1)\n",
    "reduced_xtest = xtest.drop(col_miss,axis=1)"
   ]
  },
  {
   "cell_type": "code",
   "execution_count": 13,
   "metadata": {},
   "outputs": [
    {
     "name": "stdout",
     "output_type": "stream",
     "text": [
      "MAE of Drop columns method : \n",
      "17837.82570776256\n"
     ]
    }
   ],
   "source": [
    "print('MAE of Drop columns method : ')\n",
    "print(score_dataset(reduced_xtrain,reduced_xtest,ytrain,ytest))"
   ]
  },
  {
   "cell_type": "markdown",
   "metadata": {},
   "source": [
    "## Imputation"
   ]
  },
  {
   "cell_type": "code",
   "execution_count": 24,
   "metadata": {},
   "outputs": [],
   "source": [
    "from sklearn.impute import SimpleImputer\n",
    "# imputation\n",
    "my_imputer = SimpleImputer()\n",
    "imputed_xtrain = pd.DataFrame(my_imputer.fit_transform(xtrain))\n",
    "imputed_xtest = pd.DataFrame(my_imputer.fit_transform(xtest))\n",
    "\n",
    "# imputation removed column names; put them back\n",
    "imputed_xtrain.columns = xtrain.columns\n",
    "imputed_xtest.columns = xtest.columns"
   ]
  },
  {
   "cell_type": "code",
   "execution_count": 26,
   "metadata": {},
   "outputs": [
    {
     "name": "stdout",
     "output_type": "stream",
     "text": [
      "MAE of Imputation method\n",
      "18056.85163242009\n"
     ]
    }
   ],
   "source": [
    "print('MAE of Imputation method')\n",
    "print(score_dataset(imputed_xtrain,imputed_xtest,ytrain,ytest))"
   ]
  },
  {
   "cell_type": "markdown",
   "metadata": {},
   "source": [
    "## If we look at the MAE results, MAE for dropping columns is less than Imputation. Lets proceed with dropping columns method"
   ]
  },
  {
   "cell_type": "code",
   "execution_count": 27,
   "metadata": {},
   "outputs": [],
   "source": [
    "final_xtrain = xtrain.drop(col_miss,axis=1)\n",
    "final_xtest = xtest.drop(col_miss,axis=1)"
   ]
  },
  {
   "cell_type": "markdown",
   "metadata": {},
   "source": [
    "## Define and fit model"
   ]
  },
  {
   "cell_type": "code",
   "execution_count": 29,
   "metadata": {},
   "outputs": [
    {
     "name": "stdout",
     "output_type": "stream",
     "text": [
      "MAE : 17837.82570776256\n"
     ]
    }
   ],
   "source": [
    "from sklearn.ensemble import RandomForestRegressor\n",
    "model = RandomForestRegressor(n_estimators=100,random_state=0)\n",
    "model.fit(final_xtrain,ytrain)\n",
    "\n",
    "# get predications and calculate MAE\n",
    "ypreds= model.predict(final_xtest)\n",
    "print(f'MAE : {mean_absolute_error(ytest,ypreds)}')"
   ]
  },
  {
   "cell_type": "code",
   "execution_count": null,
   "metadata": {},
   "outputs": [],
   "source": []
  }
 ],
 "metadata": {
  "kernelspec": {
   "display_name": "venv",
   "language": "python",
   "name": "python3"
  },
  "language_info": {
   "codemirror_mode": {
    "name": "ipython",
    "version": 3
   },
   "file_extension": ".py",
   "mimetype": "text/x-python",
   "name": "python",
   "nbconvert_exporter": "python",
   "pygments_lexer": "ipython3",
   "version": "3.12.1"
  }
 },
 "nbformat": 4,
 "nbformat_minor": 2
}
